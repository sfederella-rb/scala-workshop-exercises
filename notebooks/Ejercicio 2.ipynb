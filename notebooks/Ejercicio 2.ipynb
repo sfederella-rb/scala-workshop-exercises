{
  "metadata" : {
    "config" : {
      "dependencies" : {
        
      },
      "exclusions" : [
      ],
      "repositories" : [
      ],
      "env" : {
        
      }
    },
    "language_info" : {
      "name" : "scala"
    }
  },
  "nbformat" : 4,
  "nbformat_minor" : 0,
  "cells" : [
    {
      "cell_type" : "markdown",
      "execution_count" : 0,
      "metadata" : {
        "language" : "text"
      },
      "language" : "text",
      "source" : [
        "# Ejercicio 2\n",
        "\n",
        "\n",
        "Dada la secuencia de fibonacci **(1, 1, 2, 3, 5, 8, 13, ..., n******x****** + n******x-1******)**. Implementar la función `fibonacci(n: Int): Int` siendo **n** el índice del número en la secuencia, y el resultado es el valor en esa iteración de la secuencia.\n",
        "\n",
        "\n"
      ],
      "outputs" : [
      ]
    },
    {
      "cell_type" : "code",
      "execution_count" : 1,
      "metadata" : {
        "cell.metadata.exec_info" : {
          "startTs" : 1589839487697,
          "endTs" : 1589839488492
        },
        "language" : "scala"
      },
      "language" : "scala",
      "source" : [
        "def fibonacci(ind: Int): Int = ???"
      ],
      "outputs" : [
      ]
    },
    {
      "cell_type" : "markdown",
      "execution_count" : 2,
      "metadata" : {
        "language" : "text"
      },
      "language" : "text",
      "source" : [
        "Para verificar el correcto funcionamiento, ejecute la siguiente validación:\n",
        "\n",
        "\n"
      ],
      "outputs" : [
      ]
    },
    {
      "cell_type" : "code",
      "execution_count" : 3,
      "metadata" : {
        "jupyter.source_hidden" : true,
        "cell.metadata.exec_info" : {
          "startTs" : 1589839832389,
          "endTs" : 1589839833486
        },
        "language" : "scala"
      },
      "language" : "scala",
      "source" : [
        "val conditions: List[(String, Boolean)] = List(\n",
        "    (\"Fib(0)\", fibonacci(0) == 1),\n",
        "    (\"Fib(1)\", fibonacci(1) == 1),\n",
        "    (\"Fib(2)\", fibonacci(2) == 2),\n",
        "    (\"Fib(3)\", fibonacci(3) == 3),\n",
        "    (\"Fib(4)\", fibonacci(4) == 5),\n",
        "    (\"Fib(5)\", fibonacci(5) == 8),\n",
        "    (\"Fib(6)\", fibonacci(6) == 13)\n",
        ")\n",
        "val failed = conditions.filterNot(_._2)\n",
        "if (failed.isEmpty) println(\"Right answer.\")\n",
        "else failed.foreach(tuple => println(s\"Incorrect answer at: ${tuple._1}.\"))"
      ],
      "outputs" : [
      ]
    }
  ]
}