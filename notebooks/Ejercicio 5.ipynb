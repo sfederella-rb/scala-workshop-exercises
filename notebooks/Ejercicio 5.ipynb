{
  "metadata" : {
    "config" : {
      "dependencies" : {
        
      },
      "exclusions" : [
      ],
      "repositories" : [
      ],
      "env" : {
        
      }
    },
    "language_info" : {
      "name" : "scala"
    }
  },
  "nbformat" : 4,
  "nbformat_minor" : 0,
  "cells" : [
    {
      "cell_type" : "markdown",
      "execution_count" : 0,
      "metadata" : {
        "language" : "text"
      },
      "language" : "text",
      "source" : [
        "# Ejercicio 5\n",
        "\n",
        "Usando algunas en las clases creadas anteriormente.\n",
        "\n",
        "\n"
      ],
      "outputs" : [
      ]
    },
    {
      "cell_type" : "code",
      "execution_count" : 1,
      "metadata" : {
        "cell.metadata.exec_info" : {
          "startTs" : 1589839940052,
          "endTs" : 1589839941699
        },
        "language" : "scala"
      },
      "language" : "scala",
      "source" : [
        "trait Animal\n",
        "case class Cat() extends Animal\n",
        "case class Dog(age: Int,  weight: Int, name: Option[String]) extends Animal"
      ],
      "outputs" : [
      ]
    },
    {
      "cell_type" : "markdown",
      "execution_count" : 2,
      "metadata" : {
        "language" : "text"
      },
      "language" : "text",
      "source" : [
        "1. \n",
        "   Crear una función pura `feed(animal: Animal): Either[String,Animal]` que devuelva una nueva instancia del animal un kilo más gordo. Pero ojo, solo se podrá alimentar si el animal es un perro y pesa menos de 20 kilos. Caso contrario, no se lo puede alimentar, así que la función deberá retornar el string ****“Feeding is not allowe**d”**.\n",
        "   \n",
        "   \n",
        "   \n",
        "2. \n",
        "   Ahora, tengamos en cuenta que algunos perros pueden tener nombre. Se desea implementar una función `sayHi(animal: Animal): Option[String]` que devuelva:\n",
        "   \n",
        "   \n",
        "      1. `Some(“Hi {{name}}“)` en caso de que el animal sea un perro y tenga nombre.\n",
        "      2. `Some(“Hi dog”)` en caso de que no lo tenga.\n",
        "      3. `None` en caso de que el animal no sea un perro.\n",
        "   \n",
        "   \n",
        "   \n",
        "3. \n",
        "   Implementar la función `sayHiLong(animal: Animal): Option[String]` que devuelva lo mismo que sayHi pero agregandole al fi**nal **“, have a goo**d one”** en caso de que exista el saludo.\n",
        "   \n",
        "   \n",
        "   \n",
        "4. \n",
        "   Implementar la función `sayHiTriple(animal1: Animal, animal2: Animal, animal3: Animal): Option[String]` que devuelva la un Option con la concatenación de aplicar sayHi a cada animal. Por ejemplo, en el caso de 3 perros sin nombre sería: “Hi dog, Hi dog and Hi dog”. En caso de que alguno de los animales no sea un perro devolver** Non**e. (**HINT**: No hace falta usar pattern matching)\n",
        "   \n",
        "   \n",
        "   \n",
        "5. \n",
        "   Crear una función `sayHiFor(animal1: Animal, animal2: Animal, animal3: Animal): Option[String]`, que haga  `o misTri lq` peue sayHi3 pero utilizando for comprehension.\n",
        "   \n",
        "   \n",
        "\n",
        "\n"
      ],
      "outputs" : [
      ]
    },
    {
      "cell_type" : "code",
      "execution_count" : 3,
      "metadata" : {
        "cell.metadata.exec_info" : {
          "startTs" : 1589839941714,
          "endTs" : 1589839943146
        },
        "language" : "scala"
      },
      "language" : "scala",
      "source" : [
        "def feed(animal: Animal): Either[String, Animal] = ???\n",
        "\n",
        "def sayHi(animal: Animal): Option[String] = ???\n",
        "\n",
        "def sayHiLong(animal: Animal): Option[String] = ???\n",
        "\n",
        "def sayHiTriple(animal1: Animal, animal2: Animal, animal3: Animal): Option[String] = ???\n",
        "\n",
        "def sayHiFor(animal1: Animal, animal2: Animal, animal3: Animal): Option[String] = ???"
      ],
      "outputs" : [
      ]
    },
    {
      "cell_type" : "markdown",
      "execution_count" : 4,
      "metadata" : {
        "language" : "text"
      },
      "language" : "text",
      "source" : [
        "Para verificar el correcto funcionamiento, ejecute la siguiente validación:"
      ],
      "outputs" : [
      ]
    },
    {
      "cell_type" : "code",
      "execution_count" : 5,
      "metadata" : {
        "jupyter.source_hidden" : true,
        "cell.metadata.exec_info" : {
          "startTs" : 1589805563999,
          "endTs" : 1589805566747
        },
        "language" : "scala"
      },
      "language" : "scala",
      "source" : [
        "val cat = Cat()\n",
        "val fatDog = Dog(age = 3, weight = 21, name = None)\n",
        "val fitDog = Dog(age = 3, weight = 19, name = None)\n",
        "val unnamedDog = Dog(age = 3, weight = 10, name = None)\n",
        "val firulais = Dog(age = 3, weight = 10, name = Some(\"Firulais\"))\n",
        "\n",
        "val conditions: List[(String, Boolean)] = List(\n",
        "    (\"Feed cat\", feed(cat) == Left(\"Feed is not allowed\")),\n",
        "    (\"Feed fat dog\", feed(fatDog) == Left(\"Feed is not allowed\")),\n",
        "    (\"Feed fit dog\", feed(fitDog) == Right(fitDog.copy(weight = fitDog.weight + 1))),\n",
        "    (\"SayHi cat\", sayHi(cat) == None),\n",
        "    (\"SayHi unnamed dog\", sayHi(unnamedDog) == Some(\"Hi dog\")),\n",
        "    (\"SayHi Firulais\", sayHi(firulais) == Some(\"Hi Firulais\")),\n",
        "    (\"SayHiLong cat\", sayHiLong(cat) == None),\n",
        "    (\"SayHiLong unnamed dog\", sayHiLong(unnamedDog) == Some(\"Hi dog, have a good one\")),\n",
        "    (\"SayHiLong Firulais\", sayHiLong(firulais) == Some(\"Hi Firulais, have a good one\")),\n",
        "    (\"SayHiTriple with cat\", sayHiTriple(cat, unnamedDog, firulais) == None),\n",
        "    (\"SayHiTriple with Firulais\", sayHiTriple(firulais, unnamedDog, firulais) == Some(\"Hi Firulais, Hi dog and Hi Firulais\")),\n",
        "    (\"SayHiFor with cat\", sayHiFor(cat, unnamedDog, firulais) == None),\n",
        "    (\"SayHiFor with Firulais\", sayHiFor(firulais, unnamedDog, firulais) == Some(\"Hi Firulais, Hi dog and Hi Firulais\"))\n",
        ")\n",
        "val failed = conditions.filterNot(_._2)\n",
        "if (failed.isEmpty) println(\"Right answer.\")\n",
        "else failed.foreach(tuple => println(s\"Incorrect answer at: ${tuple._1}.\"))"
      ],
      "outputs" : [
      ]
    }
  ]
}