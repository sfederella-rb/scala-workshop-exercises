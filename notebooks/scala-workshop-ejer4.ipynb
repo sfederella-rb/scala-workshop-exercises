{
  "metadata" : {
    "config" : {
      "dependencies" : {
        
      },
      "exclusions" : [
      ],
      "repositories" : [
      ],
      "env" : {
        
      }
    },
    "language_info" : {
      "name" : "scala"
    }
  },
  "nbformat" : 4,
  "nbformat_minor" : 0,
  "cells" : [
    {
      "cell_type" : "markdown",
      "execution_count" : 0,
      "metadata" : {
        "language" : "text"
      },
      "language" : "text",
      "source" : [
        "# Ejercicio 4\n",
        "\n",
        "\n",
        "Implementar un companion object para el trait Animal, del cual extienden los animales del ejercicio anterior. Implementar los métodos canRun(): Boolean, y canFly: Boolean, y que en base a la case class que implementen el trait devolver un resultado.\n",
        "\n",
        "\n"
      ],
      "outputs" : [
      ]
    },
    {
      "cell_type" : "code",
      "execution_count" : 1,
      "metadata" : {
        "language" : "scala"
      },
      "language" : "scala",
      "source" : [
      ],
      "outputs" : [
      ]
    }
  ]
}