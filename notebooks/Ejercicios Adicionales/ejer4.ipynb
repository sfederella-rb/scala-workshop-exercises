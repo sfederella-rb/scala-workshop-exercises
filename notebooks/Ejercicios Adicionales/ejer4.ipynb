{
  "metadata" : {
    "config" : {
      "dependencies" : {
        
      },
      "exclusions" : [
      ],
      "repositories" : [
      ],
      "env" : {
        
      }
    },
    "language_info" : {
      "name" : "scala"
    }
  },
  "nbformat" : 4,
  "nbformat_minor" : 0,
  "cells" : [
    {
      "cell_type" : "markdown",
      "execution_count" : 0,
      "metadata" : {
        "language" : "text"
      },
      "language" : "text",
      "source" : [
        "# Ejercicios Adicionales - Ejercicio 4\n",
        "\n",
        "\n",
        "El método de multiplicación rusa de dos números naturales, consiste en lo siguiente: \n",
        "\n",
        "Se divide sucesivamente por 2 (división entera) a uno de sus factores hasta obtener 1. \n",
        "\n",
        "\n",
        "\n",
        "Paralelamente, se multiplica sucesivamente por 2 al otro factor. La suma de éstos últimos números obtenidos que se correspondan con números impares obtenidos en las divisiones, es el producto buscado (Se consideran los factores originales para la suma correspondiente).\n",
        "\n",
        "\n"
      ],
      "outputs" : [
      ]
    },
    {
      "cell_type" : "code",
      "execution_count" : 1,
      "metadata" : {
        "language" : "scala"
      },
      "language" : "scala",
      "source" : [
      ],
      "outputs" : [
      ]
    }
  ]
}