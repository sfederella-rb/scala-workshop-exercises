{
  "metadata" : {
    "config" : {
      "dependencies" : {
        
      },
      "exclusions" : [
      ],
      "repositories" : [
      ],
      "env" : {
        
      }
    },
    "language_info" : {
      "name" : "scala"
    }
  },
  "nbformat" : 4,
  "nbformat_minor" : 0,
  "cells" : [
    {
      "cell_type" : "markdown",
      "execution_count" : 0,
      "metadata" : {
        "language" : "text"
      },
      "language" : "text",
      "source" : [
        "# Tarea\n",
        "\n",
        "\n",
        "1. \n",
        "   Con el método de newton se calcula una aproximación a la raiz cuadrada, es un procedimiento recursivo que consiste en los siguientes pasos:\n",
        "   \n",
        "   \n",
        "      1. \n",
        "   \n",
        "   \n",
        "   Se define **guess:** Double = 1.\n",
        "   \n",
        "   \n",
        "      1. \n",
        "   \n",
        "   \n",
        "   Se define **x:** Double como el número para a calcular la raiz cuadrada.\n",
        "   \n",
        "   \n",
        "      1. \n",
        "   \n",
        "   \n",
        "   Se chequea si **|(guess * guess - x)| / x** es **< 0.00001.**  Siendo 0.00001 nuestro parámetro para definir que tan precisa tiene que ser la estimación. Es decir, revisamos si al elevar guess al cuadrado, si le restamos x, aplicamos el módulo, y lo dividmos por x, deberiamos obtener que tan cercano es guess a nuestra x real.\n",
        "   \n",
        "   \n",
        "   \n",
        "\n",
        "\n",
        "**<br>**\n",
        "\n",
        "\n",
        "Si **guess** es mayor a **0.00001**:\n",
        "\n",
        "\n",
        "1. Calculamos el siguiente guess: **(guess + x/guess)/2**. De esta forma, realizamos otra iteración de guess acercando a guess aún más a nuestro x, y repetimos el proceso de validar si guess es suficientemente preciso.\n",
        "\n",
        "\n",
        "Si **guess** es menor a **0.00001**:\n",
        "\n",
        "\n",
        "1. guess es nuestra estimación de la raiz cuadrada.\n",
        "\n",
        "\n",
        "**Consigna:** Implementar la función **squareRoot(x: Double): Double**, la cual tiene que devolver la raiz cuadrada del número **x**. Para implementarlo utilizar el método abs, el cual calcula el módulo, y **pow(x: Double): Double**, para calcular el numero a elevar al cuadrado. Se debe implementar utilizando recursión para iterar.\n",
        "\n",
        "\n",
        "Realizar la implementación en la primer celda, y luego ejecutar las validaciones en la segunda.\n",
        "\n",
        "\n",
        "**Importante:** Dejar un redondeo de por lo menos 6 ceros: **Math.floor(sqrt * 1000000) / 1000000**\n",
        "\n",
        "\n"
      ],
      "outputs" : [
      ]
    },
    {
      "cell_type" : "code",
      "execution_count" : 1,
      "metadata" : {
        "cell.metadata.exec_info" : {
          "startTs" : 1589829015633,
          "endTs" : 1589829015885
        },
        "language" : "scala"
      },
      "language" : "scala",
      "source" : [
        "def squareRoot(x: Double): Double  = ???"
      ],
      "outputs" : [
      ]
    },
    {
      "cell_type" : "code",
      "execution_count" : 2,
      "metadata" : {
        "cell.metadata.exec_info" : {
          "startTs" : 1589829076012,
          "endTs" : 1589829076333
        },
        "language" : "scala"
      },
      "language" : "scala",
      "source" : [
        "val round: Int = 1000000\n",
        "\n",
        "def validate(x: Double): Unit = {\n",
        "\n",
        "    val roundedSqrt = (Math.floor(squareRoot(x)) * round / round)\n",
        "    if(roundedSqrt * roundedSqrt == x) {\n",
        "        println(s\"Successfully executed squareRoot for value: $x.\")\n",
        "    }\n",
        "    else {\n",
        "        println(s\"Invalid square Root: $roundedSqrt for value: $x\")\n",
        "    }\n",
        "}\n",
        "\n",
        "validate(4)\n",
        "validate(9)\n",
        "validate(16)"
      ],
      "outputs" : [
        {
          "name" : "stdout",
          "text" : [
            "Successfully executed squareRoot for value: 4.0.\n",
            "Successfully executed squareRoot for value: 9.0.\n",
            "Successfully executed squareRoot for value: 16.0.\n"
          ],
          "output_type" : "stream"
        }
      ]
    }
  ]
}