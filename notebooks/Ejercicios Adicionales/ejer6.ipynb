{
  "metadata" : {
    "config" : {
      "dependencies" : {
        
      },
      "exclusions" : [
      ],
      "repositories" : [
      ],
      "env" : {
        
      }
    },
    "language_info" : {
      "name" : "scala"
    }
  },
  "nbformat" : 4,
  "nbformat_minor" : 0,
  "cells" : [
    {
      "cell_type" : "markdown",
      "execution_count" : 0,
      "metadata" : {
        "language" : "text"
      },
      "language" : "text",
      "source" : [
        "# Ejercicios Adicionales - Ejercicio 6\n",
        "\n",
        "\n",
        "## Descripción del problema\n",
        "\n",
        "\n",
        "La ciudad Empinada se está construyendo en la ladera de una montaña. Los\n",
        "ingenieros a cargo de la construcción diseñaron un curioso sistema para distribuir\n",
        "el agua a toda la ciudad. Desde la cima\n",
        "de esta montaña fluye un río, que será\n",
        "desviado hacia un enorme tanque de reserva. Desde este tanque principal salen\n",
        "cañerías hacia otros tanques secundarios,\n",
        "y de estos últimos salen caños a tanques\n",
        "de tercer nivel, y así sucesivamente. En\n",
        "este sistema, las cañerías existentes son\n",
        "suficientes para poder enviar agua desde\n",
        "el tanque principal hasta cualquier otro\n",
        "tanque.\n",
        "Los tanques poseen dos tipos de boca\n",
        "(agujeros en el tanque): \n",
        "\n",
        "A) Boca de entrada \n",
        "\n",
        "B) Boca de salida\n",
        "Hay un solo tipo de boca A por\n",
        "tanque, y se encuentra situada en la parte\n",
        "más alta del mismo. Por aquí llega el\n",
        "agua al tanque, y solamente se puede\n",
        "conectar una única cañería a ella.\n",
        "En cambio, del tipo B puede haber\n",
        "varias en cada tanque (o incluso ninguna)\n",
        "y están situadas a una determinada distancia de la boca de entrada. Se asegura\n",
        "que, en un mismo tanque, no existen dos\n",
        "bocas de salida a la misma distancia de la\n",
        "boca de entrada. Por estas bocas fluye el\n",
        "agua hacia otros tanques.\n",
        "Los tanques tienen un volumen Vi determinado por su altura, ya que todos\n",
        "tienen las bases de las mismas dimensiones. Para simplificar los cálculos, asumiremos que 1 unidad de agua llena una altura\n",
        "de 1mm de un tanque.\n",
        "Se asegura que el agua fluirá por\n",
        "gravedad, sin necesidad de bombas impulsoras.<br>\n",
        "\n",
        "\n",
        "Los ingenieros ya tienen el diagrama de\n",
        "las conexiones a realizar, pero tienen Q\n",
        "preguntas, cada una de las cuales es de\n",
        "la siguiente forma: Dado un Ki\n",
        ", ¿Cuántos\n",
        "tanques quedan cargados con al menos\n",
        "una unidad de agua, si coloco Ki unidades\n",
        "de agua en el tanque principal con el\n",
        "sistema de distribución activado?<br>\n",
        "\n",
        "\n",
        "<br>\n",
        "### Datos de entrada\n",
        "\n",
        "\n",
        "• En la primera línea, se recibe un entero\n",
        "T (1 ≤ T ≤ 100.000) que representa la\n",
        "cantidad de tanques.\n",
        "\n",
        "\n",
        "• Luego, en una segunda línea, T enteros Vi\n",
        "(1 ≤ Vi ≤ 10.000), que indican la\n",
        "capacidad de cada tanque, medida en\n",
        "unidades de agua.\n",
        "\n",
        "\n",
        "• Luego, siguen T − 1 líneas, cada una con tres enteros T1, D, T2\n",
        "(1 ≤ T1, T2 ≤ T), (1 ≤ D < 10.000).\n",
        "Cada una de estas líneas representa un\n",
        "tramo de cañería. Dicha cañería comienza conectada a una boca de salida del\n",
        "tanque T1. Esta boca está a D milímetros\n",
        "de distancia de la boca de entrada del\n",
        "tanque T1. La cañería termina en la boca\n",
        "de entrada del tanque T2. T1 6= T2\n",
        "\n",
        "\n",
        "• Luego de esto, sigue una línea con un\n",
        "entero Q (1 ≤ Q ≤ 100.000), que indica la\n",
        "cantidad de consultas realizadas<br>\n",
        "\n",
        "\n",
        "• Finalmente, una última línea con\n",
        "Q enteros K1, K2, · · · , KQ, correspondientes a las consultas realizadas\n",
        "(1 ≤ Ki ≤ 1.000.000.000)\n",
        "\n",
        "\n",
        "Aclaración: El tanque principal siempre\n",
        "es el tanque número 1. Las capacidades\n",
        "de los caños no deben tenerse en cuenta,\n",
        "son despreciables.<br>\n",
        "\n",
        "\n",
        "### Datos de salida\n",
        "\n",
        "\n",
        "Se debe imprimir una única línea con\n",
        "Q enteros, que indiquen las respuestas a\n",
        "cada una de las preguntas de la entrada,\n",
        "en el mismo orden.<br>\n",
        "\n",
        "\n"
      ],
      "outputs" : [
      ]
    },
    {
      "cell_type" : "code",
      "execution_count" : 1,
      "metadata" : {
        "language" : "scala"
      },
      "language" : "scala",
      "source" : [
      ],
      "outputs" : [
      ]
    }
  ]
}