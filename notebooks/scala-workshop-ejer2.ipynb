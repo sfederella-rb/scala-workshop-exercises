{
  "metadata" : {
    "config" : {
      "dependencies" : {
        
      },
      "exclusions" : [
      ],
      "repositories" : [
      ],
      "env" : {
        
      }
    },
    "language_info" : {
      "name" : "scala"
    }
  },
  "nbformat" : 4,
  "nbformat_minor" : 0,
  "cells" : [
    {
      "cell_type" : "markdown",
      "execution_count" : 0,
      "metadata" : {
        "language" : "text"
      },
      "language" : "text",
      "source" : [
        "# Ejercicio 2\n",
        "\n",
        "\n",
        "Dada la secuencia de fibonacci **(1, 1, 2, 3, 5, 8, 13, ..., n******x****** + n******x-1******)**. Implementar la función **fibonacci(n: Int): Int**, siendo n el índice del número en la secuencia, y el resultado es el valor en esa iteración de la secuencia.<br>\n",
        "\n",
        "\n"
      ],
      "outputs" : [
      ]
    },
    {
      "cell_type" : "code",
      "execution_count" : 1,
      "metadata" : {
        "cell.metadata.exec_info" : {
          "startTs" : 1588716952462,
          "endTs" : 1588716953056
        },
        "language" : "scala"
      },
      "language" : "scala",
      "source" : [
        "def fibonacci(ind: Int): Int = ??? //CODE HERE\n"
      ],
      "outputs" : [
      ]
    },
    {
      "cell_type" : "code",
      "execution_count" : 2,
      "metadata" : {
        "jupyter.source_hidden" : true
      },
      "language" : "scala",
      "source" : [
        "def fibonacci(ind: Int): Int = ind match {\n",
        " case neg if neg < 0 => 0\n",
        " case 0 => 1\n",
        " case 1 => 1\n",
        " case _ => fibonacci(ind-1) + fibonacci(ind-2)\n",
        "}"
      ],
      "outputs" : [
      ]
    }
  ]
}