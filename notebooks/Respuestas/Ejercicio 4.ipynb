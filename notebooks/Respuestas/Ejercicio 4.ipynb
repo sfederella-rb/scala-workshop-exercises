{
  "metadata" : {
    "config" : {
      "dependencies" : {
        
      },
      "exclusions" : [
      ],
      "repositories" : [
      ],
      "env" : {
        
      }
    },
    "language_info" : {
      "name" : "scala"
    }
  },
  "nbformat" : 4,
  "nbformat_minor" : 0,
  "cells" : [
    {
      "cell_type" : "markdown",
      "execution_count" : 0,
      "metadata" : {
        "language" : "text"
      },
      "language" : "text",
      "source" : [
        "# Ejercicio 4\n",
        "\n",
        "\n",
        "Resulta que vamos a un refugio de animales, donde nos asignan el sector de perros y nos solicitan hacer algunas tareas como alimentarlos y obtener algunos datos. Dada una lista no vacía de perros (usamos `def` porque los `val` son más difíciles de compartir entre celdas):\n",
        "\n",
        "\n"
      ],
      "outputs" : [
      ]
    },
    {
      "cell_type" : "code",
      "execution_count" : 1,
      "metadata" : {
        "cell.metadata.exec_info" : {
          "startTs" : 1589763038099,
          "endTs" : 1589763038771
        },
        "language" : "scala"
      },
      "language" : "scala",
      "source" : [
        "case class Dog(age: Int,  weight: Int)\n",
        "\n",
        "def dogs: List[Dog] = List(\n",
        "    Dog(age = 5, weight = 15),\n",
        "    Dog(age = 3, weight = 20),\n",
        "    Dog(age = 1, weight = 8),\n",
        "    Dog(age = 4, weight = 25)\n",
        ")"
      ],
      "outputs" : [
      ]
    },
    {
      "cell_type" : "markdown",
      "execution_count" : 2,
      "metadata" : {
        "language" : "text"
      },
      "language" : "text",
      "source" : [
        "1. Crear una función `feedAll(dogs: List[Dog]): List[Dog]`  que reciba la lista como parámetro y devuelva una nueva lista con todos los perros pesando 1kg más de lo que pesaban.\n",
        "2. Crear una función `oldest(dogs: List[Dog]): Dog` que permita saber cual es el perro más viejo de la lista. (**HINT**: usar fold)\n",
        "3. Crear una función `averageHeavyAge(dogs: List[Dog]): Double` que permita obtener el promedio de edad de los perros de la lista que pesan más de 18 kilos. (**HINT**: usar filter y fold)\n",
        "\n",
        "\n"
      ],
      "outputs" : [
      ]
    },
    {
      "cell_type" : "code",
      "execution_count" : 3,
      "metadata" : {
        "cell.metadata.exec_info" : {
          "startTs" : 1589763228401,
          "endTs" : 1589763229193
        },
        "language" : "scala"
      },
      "language" : "scala",
      "source" : [
        "def feedAll(dogs: List[Dog]): List[Dog] = dogs.map(dog => dog.copy(weight = dog.weight + 1))\n",
        "\n",
        "def oldest(dogs: List[Dog]): Dog =\n",
        " dogs.fold(dogs.head)((dog,oldestDog) => if (dog.age > oldestDog.age) dog else oldestDog)\n",
        "\n",
        "def averageHeavyAge(dogs: List[Dog]): Double = {\n",
        " val heavyDogs = dogs.filter(_.weight > 18)\n",
        " val ageSum = heavyDogs.map(_.age).fold(0)((age,sum) => age + sum).toDouble\n",
        " ageSum / heavyDogs.length\n",
        "}"
      ],
      "outputs" : [
      ]
    },
    {
      "cell_type" : "markdown",
      "execution_count" : 4,
      "metadata" : {
        "language" : "text"
      },
      "language" : "text",
      "source" : [
        "Para verificar el correcto funcionamiento, ejecute la siguiente validación:"
      ],
      "outputs" : [
      ]
    },
    {
      "cell_type" : "code",
      "execution_count" : 5,
      "metadata" : {
        "jupyter.outputs_hidden" : true,
        "cell.metadata.exec_info" : {
          "startTs" : 1589762531378,
          "endTs" : 1589762531604
        },
        "language" : "scala"
      },
      "language" : "scala",
      "source" : [
        "val conditions: List[Boolean] = List(\n",
        "    feedAll(dogs) == List(Dog(age = 5, weight = 16), Dog(age = 3, weight = 21), Dog(age = 1, weight = 9), Dog(age = 4, weight = 26)),\n",
        "    oldest(dogs) == Dog(age = 5, weight = 15),\n",
        "    averageHeavyAge(dogs) == 3.5\n",
        ")\n",
        "if(conditions.forall(identity)) \"Right answer.\"\n",
        "else \"Incorrect answer, try again.\""
      ],
      "outputs" : [
      ]
    }
  ]
}