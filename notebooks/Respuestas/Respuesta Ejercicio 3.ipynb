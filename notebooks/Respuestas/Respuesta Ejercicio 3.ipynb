{
  "metadata" : {
    "config" : {
      "dependencies" : {
        
      },
      "exclusions" : [
      ],
      "repositories" : [
      ],
      "env" : {
        
      }
    },
    "language_info" : {
      "name" : "scala"
    }
  },
  "nbformat" : 4,
  "nbformat_minor" : 0,
  "cells" : [
    {
      "cell_type" : "markdown",
      "execution_count" : 0,
      "metadata" : {
        "language" : "text"
      },
      "language" : "text",
      "source" : [
        "# Respuesta Ejercicio 3\n",
        "\n",
        "\n",
        "Implementar las case classes **Dog** , **Cat**, **Dove** y **Parrot**. Todos los animales pueden caminar, así que deberán poder responder al método `walk(): String` con “Walking”. **Dog** y **Cat** además tienen que tener el método `run(): String`, el cual devuelve “Running”. Por su parte, **Dove** y **Parrot** tienen que tener el método `fly(): String`, el cual devuelve “Flying”. Implementar sin repetir código.\n",
        "\n",
        "\n"
      ],
      "outputs" : [
      ]
    },
    {
      "cell_type" : "code",
      "execution_count" : 1,
      "metadata" : {
        "cell.metadata.exec_info" : {
          "startTs" : 1589928470020,
          "endTs" : 1589928472774
        },
        "language" : "scala"
      },
      "language" : "scala",
      "source" : [
        "trait Animal {\n",
        " def walk: String = \"Walking\"\n",
        "}\n",
        "\n",
        "trait Runner {\n",
        " def run: String = \"Running\"\n",
        "}\n",
        "\n",
        "trait Flyer {\n",
        " def fly: String = \"Flying\"\n",
        "}\n",
        "\n",
        "case class Cat()\n",
        " extends Animal with Runner\n",
        "\n",
        "case class Dog()\n",
        " extends Animal with Runner\n",
        "\n",
        "case class Dove()\n",
        " extends Animal with Flyer\n",
        "\n",
        "case class Parrot()\n",
        " extends Animal with Flyer"
      ],
      "outputs" : [
      ]
    },
    {
      "cell_type" : "markdown",
      "execution_count" : 2,
      "metadata" : {
        "language" : "text"
      },
      "language" : "text",
      "source" : [
        "Ahora implementar la case class **RoadRunner**, sabiendo que estos animales son aves que pueden correr y también volar cortas distancias.<br>\n",
        "\n",
        "\n"
      ],
      "outputs" : [
      ]
    },
    {
      "cell_type" : "code",
      "execution_count" : 3,
      "metadata" : {
        "cell.metadata.exec_info" : {
          "startTs" : 1589928485781,
          "endTs" : 1589928486800
        },
        "language" : "scala"
      },
      "language" : "scala",
      "source" : [
        "case class RoadRunner()\n",
        " extends Animal with Runner with Flyer"
      ],
      "outputs" : [
      ]
    },
    {
      "cell_type" : "markdown",
      "execution_count" : 4,
      "metadata" : {
        "language" : "text"
      },
      "language" : "text",
      "source" : [
        "Para verificar el correcto funcionamiento, ejecute la siguiente validación:"
      ],
      "outputs" : [
      ]
    },
    {
      "cell_type" : "code",
      "execution_count" : 5,
      "metadata" : {
        "jupyter.source_hidden" : true,
        "cell.metadata.exec_info" : {
          "startTs" : 1589839356824,
          "endTs" : 1589839358916
        },
        "language" : "scala"
      },
      "language" : "scala",
      "source" : [
        "val conditions: List[(String, Boolean)] = List(\n",
        "    (\"Walk\", List(Cat().walk, Dog().walk, Dove().walk, Parrot().walk, RoadRunner().walk).forall(_ == \"Walking\")),\n",
        "    (\"Run\", List(Cat().run, Dog().run, RoadRunner().run).forall(_ == \"Running\")),\n",
        "    (\"Fly\", List(Dove().fly, Parrot().fly, RoadRunner().fly).forall(_ == \"Flying\"))\n",
        ")\n",
        "val failed = conditions.filterNot(_._2)\n",
        "if (failed.isEmpty) println(\"Right answer.\")\n",
        "else failed.foreach(tuple => println(s\"Incorrect answer at: ${tuple._1}.\"))"
      ],
      "outputs" : [
      ]
    }
  ]
}