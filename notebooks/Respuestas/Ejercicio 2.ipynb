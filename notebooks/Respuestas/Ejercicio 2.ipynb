{
  "metadata" : {
    "config" : {
      "dependencies" : {
        
      },
      "exclusions" : [
      ],
      "repositories" : [
      ],
      "env" : {
        
      }
    },
    "language_info" : {
      "name" : "scala"
    }
  },
  "nbformat" : 4,
  "nbformat_minor" : 0,
  "cells" : [
    {
      "cell_type" : "markdown",
      "execution_count" : 0,
      "metadata" : {
        "language" : "text"
      },
      "language" : "text",
      "source" : [
        "# Ejercicio 2\n",
        "\n",
        "\n",
        "Dada la secuencia de fibonacci **(1, 1, 2, 3, 5, 8, 13, ..., n******x****** + n******x-1******)**. Implementar la función `fibonacci(n: Int): Int` siendo **n** el índice del número en la secuencia, y el resultado es el valor en esa iteración de la secuencia.\n",
        "\n",
        "\n"
      ],
      "outputs" : [
      ]
    },
    {
      "cell_type" : "code",
      "execution_count" : 1,
      "metadata" : {
        "cell.metadata.exec_info" : {
          "startTs" : 1589397999979,
          "endTs" : 1589398001101
        },
        "language" : "scala"
      },
      "language" : "scala",
      "source" : [
        "def fibonacci(ind: Int): Int = ind match {\n",
        " case neg if neg < 0 => 0\n",
        " case 0 => 1\n",
        " case 1 => 4\n",
        " case _ => fibonacci(ind-1) + fibonacci(ind-2)\n",
        "}"
      ],
      "outputs" : [
      ]
    },
    {
      "cell_type" : "markdown",
      "execution_count" : 2,
      "metadata" : {
        "language" : "text"
      },
      "language" : "text",
      "source" : [
        "Para verificar el correcto funcionamiento, ejecute la siguiente validación:\n",
        "\n",
        "\n"
      ],
      "outputs" : [
      ]
    },
    {
      "cell_type" : "code",
      "execution_count" : 3,
      "metadata" : {
        "jupyter.source_hidden" : true,
        "jupyter.outputs_hidden" : true,
        "cell.metadata.exec_info" : {
          "startTs" : 1589398063164,
          "endTs" : 1589398064729
        },
        "language" : "scala"
      },
      "language" : "scala",
      "source" : [
        "val isValid: Boolean = List(\n",
        "    fibonacci(0) == 1,\n",
        "    fibonacci(1) == 1,\n",
        "    fibonacci(2) == 2,\n",
        "    fibonacci(3) == 3,\n",
        "    fibonacci(4) == 5,\n",
        "    fibonacci(5) == 8,\n",
        "    fibonacci(6) == 13\n",
        ").forall(identity)\n",
        "if(isValid) \"Right answer.\"\n",
        "else \"Incorrect answer, try again.\""
      ],
      "outputs" : [
        {
          "execution_count" : 3,
          "data" : {
            "text/plain" : [
              "Incorrect answer, try again."
            ]
          },
          "metadata" : {
            "name" : "Out",
            "type" : "String"
          },
          "output_type" : "execute_result"
        }
      ]
    }
  ]
}