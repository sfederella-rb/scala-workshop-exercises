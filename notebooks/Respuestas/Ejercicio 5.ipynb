{
  "metadata" : {
    "config" : {
      "dependencies" : {
        
      },
      "exclusions" : [
      ],
      "repositories" : [
      ],
      "env" : {
        
      }
    },
    "language_info" : {
      "name" : "scala"
    }
  },
  "nbformat" : 4,
  "nbformat_minor" : 0,
  "cells" : [
    {
      "cell_type" : "markdown",
      "execution_count" : 0,
      "metadata" : {
        "language" : "text"
      },
      "language" : "text",
      "source" : [
        "# Ejercicio 5\n",
        "\n",
        "\n",
        "# 1. Crear una función **sayHi4**, que haga lo mismo que **sayHi3** pero utilizando for comprehension.\n",
        "   \n",
        "   \n",
        "2. Modificar el código para que los saludos **sayHi** y **sayHi2 **puedan ser usados de la siguiente manera, suponiendo que no se tiene acceso al trait Animal. (HINT: Usar implicit class)\n",
        "   \n",
        "   \n",
        "\n",
        "\n"
      ],
      "outputs" : [
      ]
    },
    {
      "cell_type" : "code",
      "execution_count" : 1,
      "metadata" : {
        "language" : "scala"
      },
      "language" : "scala",
      "source" : [
      ],
      "outputs" : [
      ]
    }
  ]
}