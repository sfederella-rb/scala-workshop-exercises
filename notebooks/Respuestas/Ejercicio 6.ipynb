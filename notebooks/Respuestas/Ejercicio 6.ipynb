{
  "metadata" : {
    "config" : {
      "dependencies" : {
        
      },
      "exclusions" : [
      ],
      "repositories" : [
      ],
      "env" : {
        
      }
    },
    "language_info" : {
      "name" : "scala"
    }
  },
  "nbformat" : 4,
  "nbformat_minor" : 0,
  "cells" : [
    {
      "cell_type" : "markdown",
      "execution_count" : 0,
      "metadata" : {
        "language" : "text"
      },
      "language" : "text",
      "source" : [
        "# Ejercicio 6\n",
        "\n",
        "\n",
        "1. Modificar el código para que los saludos sayHi y sayHi2 puedan ser usados de la siguiente manera, suponiendo que no se tiene acceso al trait Animal. (HINT: Usar implicit class)\n",
        "   1. animal.sayHi2\n",
        "\n",
        "\n"
      ],
      "outputs" : [
      ]
    }
  ]
}