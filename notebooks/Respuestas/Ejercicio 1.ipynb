{
  "metadata" : {
    "config" : {
      "dependencies" : {
        
      },
      "exclusions" : [
      ],
      "repositories" : [
      ],
      "env" : {
        
      }
    },
    "language_info" : {
      "name" : "scala"
    }
  },
  "nbformat" : 4,
  "nbformat_minor" : 0,
  "cells" : [
    {
      "cell_type" : "markdown",
      "execution_count" : 0,
      "metadata" : {
        "language" : "text"
      },
      "language" : "text",
      "source" : [
        "# Ejercicio 1\n",
        "\n",
        "\n",
        "Dadas las siguientes funciones:\n",
        "\n",
        "\n"
      ],
      "outputs" : [
      ]
    },
    {
      "cell_type" : "code",
      "execution_count" : 1,
      "metadata" : {
        "cell.metadata.exec_info" : {
          "startTs" : 1589397810183,
          "endTs" : 1589397813208
        },
        "language" : "scala"
      },
      "language" : "scala",
      "source" : [
        "def sumLengths(a: String, b: String) : Int = a.length + b.length\n",
        "def sumInts(a: String, b: String) : Int = a.toInt + b.toInt"
      ],
      "outputs" : [
      ]
    },
    {
      "cell_type" : "code",
      "execution_count" : 2,
      "metadata" : {
        "cell.metadata.exec_info" : {
          "startTs" : 1589397813724,
          "endTs" : 1589397815120
        },
        "language" : "scala"
      },
      "language" : "scala",
      "source" : [
        "sumLengths(\"aaa\",\"bb\")"
      ],
      "outputs" : [
        {
          "execution_count" : 2,
          "data" : {
            "text/plain" : [
              "5"
            ]
          },
          "metadata" : {
            "name" : "Out",
            "type" : "Int"
          },
          "output_type" : "execute_result"
        }
      ]
    },
    {
      "cell_type" : "code",
      "execution_count" : 3,
      "metadata" : {
        "jupyter.outputs_hidden" : true,
        "cell.metadata.exec_info" : {
          "startTs" : 1589397820723,
          "endTs" : 1589397822083
        },
        "language" : "scala"
      },
      "language" : "scala",
      "source" : [
        "sumInts(\"4\",\"5\")"
      ],
      "outputs" : [
        {
          "execution_count" : 3,
          "data" : {
            "text/plain" : [
              "9"
            ]
          },
          "metadata" : {
            "name" : "Out",
            "type" : "Int"
          },
          "output_type" : "execute_result"
        }
      ]
    },
    {
      "cell_type" : "markdown",
      "execution_count" : 4,
      "metadata" : {
        "language" : "text"
      },
      "language" : "text",
      "source" : [
        "Se desea abstraer una función sumStrings, que reciba 3 parámetros. El primero será una transformación de un string a un numero, el segundo y tercer parámetro serán las dos strings a sumar. Con esa función se podrán redefinir las anteriormente mencionadas de la siguiente forma:\n",
        "\n",
        "`def sumLengths(a: String, b: String) : Int = sumString(s => s.length, a, b)`\n",
        "\n",
        "`def sumInts(a: String, b: String) : Int = sumString(s => s.toInt, a, b)`<br>\n",
        "\n",
        "\n"
      ],
      "outputs" : [
      ]
    },
    {
      "cell_type" : "code",
      "execution_count" : 5,
      "metadata" : {
        "cell.metadata.exec_info" : {
          "startTs" : 1589397863626,
          "endTs" : 1589397864509
        },
        "language" : "scala"
      },
      "language" : "scala",
      "source" : [
        "def sumStrings(t: String => Int, s1: String, s2: String): Int = t(s1) + t(s2)"
      ],
      "outputs" : [
      ]
    },
    {
      "cell_type" : "markdown",
      "execution_count" : 6,
      "metadata" : {
        "language" : "text"
      },
      "language" : "text",
      "source" : [
        "Para verificar el correcto funcionamiento, ejecute la siguiente validación:"
      ],
      "outputs" : [
      ]
    },
    {
      "cell_type" : "code",
      "execution_count" : 7,
      "metadata" : {
        "cell.metadata.exec_info" : {
          "startTs" : 1589397865138,
          "endTs" : 1589397867583
        },
        "language" : "scala"
      },
      "language" : "scala",
      "source" : [
        "def sumLengths(a: String, b: String) : Int = sumStrings(s => s.length, a, b)\n",
        "def sumInts(a: String, b: String) : Int = sumStrings(s => s.toInt, a, b)\n",
        "val isValid: Boolean = List(\n",
        "    sumLengths(\"aaa\",\"bb\") == 5,\n",
        "    sumInts(\"4\",\"5\") == 9\n",
        ").forall(identity)\n",
        "if(isValid) \"Right answer.\"\n",
        "else \"Incorrect answer, try again.\""
      ],
      "outputs" : [
        {
          "execution_count" : 7,
          "data" : {
            "text/plain" : [
              "Right answer."
            ]
          },
          "metadata" : {
            "name" : "Out",
            "type" : "String"
          },
          "output_type" : "execute_result"
        }
      ]
    },
    {
      "cell_type" : "markdown",
      "execution_count" : 8,
      "metadata" : {
        "language" : "text"
      },
      "language" : "text",
      "source" : [
        "Ahora estamos repitiendo menos código, pero todavía se puede mejorar un poco más. Utilizando la currificación, cambiar la función sumStrings para que se pueda usar de la siguiente manera:\n",
        "\n",
        "`def sumLengths: (String, String) => Int = sumStrings(s => s.length)`\n",
        "\n",
        "`def sumInts: (String, String) => Int = sumStrings(s => s.toInt)`<br>\n",
        "\n",
        "\n"
      ],
      "outputs" : [
      ]
    },
    {
      "cell_type" : "code",
      "execution_count" : 9,
      "metadata" : {
        "cell.metadata.exec_info" : {
          "startTs" : 1589397915062,
          "endTs" : 1589397915588
        },
        "language" : "scala"
      },
      "language" : "scala",
      "source" : [
        "def sumStrings(t: String => Int)(s1: String, s2: String): Int = t(s1) + t(s2)"
      ],
      "outputs" : [
      ]
    },
    {
      "cell_type" : "markdown",
      "execution_count" : 10,
      "metadata" : {
        "language" : "text"
      },
      "language" : "text",
      "source" : [
        "Para verificar el correcto funcionamiento, ejecute la siguiente validación:"
      ],
      "outputs" : [
      ]
    },
    {
      "cell_type" : "code",
      "execution_count" : 11,
      "metadata" : {
        "cell.metadata.exec_info" : {
          "startTs" : 1589397916574,
          "endTs" : 1589397918330
        },
        "language" : "scala"
      },
      "language" : "scala",
      "source" : [
        "def sumLengths: (String, String) => Int = sumStrings(s => s.length)\n",
        "def sumInts: (String, String) => Int = sumStrings(s => s.toInt)\n",
        "val isValid: Boolean = List(\n",
        "    sumLengths(\"aaa\",\"bb\") == 5,\n",
        "    sumInts(\"4\",\"5\") == 9\n",
        ").forall(identity)\n",
        "if(isValid) \"Right answer.\"\n",
        "else \"Incorrect answer, try again.\""
      ],
      "outputs" : [
        {
          "execution_count" : 11,
          "data" : {
            "text/plain" : [
              "Right answer."
            ]
          },
          "metadata" : {
            "name" : "Out",
            "type" : "String"
          },
          "output_type" : "execute_result"
        }
      ]
    }
  ]
}