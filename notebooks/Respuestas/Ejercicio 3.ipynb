{
  "metadata" : {
    "config" : {
      "dependencies" : {
        
      },
      "exclusions" : [
      ],
      "repositories" : [
      ],
      "env" : {
        
      }
    },
    "language_info" : {
      "name" : "scala"
    }
  },
  "nbformat" : 4,
  "nbformat_minor" : 0,
  "cells" : [
    {
      "cell_type" : "markdown",
      "execution_count" : 0,
      "metadata" : {
        "language" : "text"
      },
      "language" : "text",
      "source" : [
        "# Ejercicio 3\n",
        "\n",
        "\n",
        "Implementar las case classes **Dog** , **Cat**, **Dove** y **Parrot**. Todos los animales pueden caminar, así que deberán poder responder al método `walk(): String` con “Walking”. **Dog** y **Cat** además tienen que tener el método `run(): String`, el cual devuelve “Running”. Por su parte, **Dove** y **Parrot** tienen que tener el método `fly(): String`, el cual devuelve “Flying”. Implementar sin repetir código.\n",
        "\n",
        "\n"
      ],
      "outputs" : [
      ]
    },
    {
      "cell_type" : "code",
      "execution_count" : 1,
      "metadata" : {
        "cell.metadata.exec_info" : {
          "startTs" : 1589375369725,
          "endTs" : 1589375371972
        },
        "language" : "scala"
      },
      "language" : "scala",
      "source" : [
        "trait Animal {\n",
        " def walk: String = \"Walking\"\n",
        "}\n",
        "\n",
        "trait Runner {\n",
        " def run: String = \"Running\"\n",
        "}\n",
        "\n",
        "trait Flyer {\n",
        " def fly: String = \"Flying\"\n",
        "}\n",
        "\n",
        "case class Cat()\n",
        " extends Animal with Runner\n",
        "\n",
        "case class Dog()\n",
        " extends Animal with Runner\n",
        "\n",
        "case class Dove()\n",
        " extends Animal with Flyer\n",
        "\n",
        "case class Parrot()\n",
        " extends Animal with Flyer"
      ],
      "outputs" : [
      ]
    },
    {
      "cell_type" : "markdown",
      "execution_count" : 2,
      "metadata" : {
        "language" : "text"
      },
      "language" : "text",
      "source" : [
        "Ahora implementar la case class **Roadrunner**, sabiendo que estos animales son aves que pueden correr y también volar cortas distancias.<br>\n",
        "\n",
        "\n"
      ],
      "outputs" : [
      ]
    },
    {
      "cell_type" : "code",
      "execution_count" : 3,
      "metadata" : {
        "cell.metadata.exec_info" : {
          "startTs" : 1589375922591,
          "endTs" : 1589375923092
        },
        "language" : "scala"
      },
      "language" : "scala",
      "source" : [
        "case class RoadRunner()\n",
        " extends Animal with Runner with Flyer"
      ],
      "outputs" : [
      ]
    },
    {
      "cell_type" : "markdown",
      "execution_count" : 4,
      "metadata" : {
        "language" : "text"
      },
      "language" : "text",
      "source" : [
        "Para verificar el correcto funcionamiento, ejecute la siguiente validación:"
      ],
      "outputs" : [
      ]
    },
    {
      "cell_type" : "code",
      "execution_count" : 5,
      "metadata" : {
        "jupyter.outputs_hidden" : true,
        "cell.metadata.exec_info" : {
          "startTs" : 1589375938901,
          "endTs" : 1589375939704
        },
        "language" : "scala"
      },
      "language" : "scala",
      "source" : [
        "val isValid: Boolean = List(\n",
        "    List(Cat().walk, Dog().walk, Dove().walk, Parrot().walk, RoadRunner().walk).forall(_ == \"Walking\"),\n",
        "    List(Cat().run, Dog().run, RoadRunner().run).forall(_ == \"Running\"),\n",
        "    List(Dove().fly, Parrot().fly, RoadRunner().fly).forall(_ == \"Flying\")\n",
        ").forall(identity)\n",
        "if(isValid) \"Right answer.\"\n",
        "else \"Incorrect answer, try again.\""
      ],
      "outputs" : [
      ]
    }
  ]
}