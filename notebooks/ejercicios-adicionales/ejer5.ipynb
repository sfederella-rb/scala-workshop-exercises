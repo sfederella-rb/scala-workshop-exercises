{
  "metadata" : {
    "config" : {
      "dependencies" : {
        
      },
      "exclusions" : [
      ],
      "repositories" : [
      ],
      "env" : {
        
      }
    },
    "language_info" : {
      "name" : "scala"
    }
  },
  "nbformat" : 4,
  "nbformat_minor" : 0,
  "cells" : [
    {
      "cell_type" : "markdown",
      "execution_count" : 0,
      "metadata" : {
        "language" : "text"
      },
      "language" : "text",
      "source" : [
        "# Ejercicios Adicionales - Ejercicio 4\n",
        "\n",
        "\n",
        "## Descripción del problema \n",
        "\n",
        "Lautaro es un estudiante holgazán, y\n",
        "en lugar de prepararse para sus exámenes se la pasa comentando en las\n",
        "redes sociales cuestiones relacionadas a\n",
        "la geopolítica de un continente muy lejano.\n",
        "De esta forma, llega fin de año y con\n",
        "esto su boletín, que tiene la lista de todas\n",
        "las notas en orden. Como hace mucho\n",
        "que no presta atención al boletín y en\n",
        "su escuela tienen muchísimas notas en\n",
        "el boletín (¡Ya que anotan una calificación\n",
        "distinta por cada día de clase!), necesita\n",
        "tu ayuda para procesar todas estas notas. \n",
        "\n",
        "Escribir una funcion que reciba\n",
        "la lista de N notas, y calcule: \n",
        "\n",
        "1. La suma de todas las notas\n",
        "(10 % del puntaje) \n",
        "\n",
        "2. El promedio de todas las notas,\n",
        "como número entero redondeado\n",
        "hacia abajo, pues sus profesores\n",
        "son extremadamente estrictos\n",
        "(20 % del puntaje) \n",
        "\n",
        "3. Si aprueba o no aprueba: para aprobar, debe tener promedio 7 o más, y\n",
        "ademas de eso tiene que tener 7 o\n",
        "más en la última nota\n",
        "(40 % del puntaje)\n",
        "4. La mejor de todas las notas que\n",
        "obtuvo\n",
        "(30 % del puntaje)<br>\n",
        "\n",
        "### Datos de entrada\n",
        "\n",
        " Se recibe:\n",
        "\n",
        " • Una línea con un entero N, la cantidad\n",
        "de notas. N estará entre 1 y 180 inclusive. \n",
        "\n",
        "• Una línea con las N notas, separadas\n",
        "por un espacio. Cada una de estas notas\n",
        "será un número entero entre 0 y 10\n",
        "inclusive.<br>\n",
        "\n",
        "<br>\n",
        "\n",
        "### Datos de salida \n",
        "\n",
        "El programa debe imprimir exactamente 4 líneas, cada una con el resultado de\n",
        "la correspondiente información pedida.\n",
        "Es decir, la primera línea tendrá la\n",
        "suma, la segunda el promedio, la tercera\n",
        "indicará “SI” si el alumno aprueba, o “NO”\n",
        "si el alumno no aprueba, y finalmente\n",
        "la cuarta línea deberá tener la mejor de\n",
        "todas las notas. \n",
        "\n",
        "\n"
      ],
      "outputs" : [
      ]
    },
    {
      "cell_type" : "code",
      "execution_count" : 1,
      "metadata" : {
        "language" : "scala"
      },
      "language" : "scala",
      "source" : [
      ],
      "outputs" : [
      ]
    }
  ]
}