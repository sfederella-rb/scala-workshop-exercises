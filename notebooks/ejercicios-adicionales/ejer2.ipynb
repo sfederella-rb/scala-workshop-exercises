{
  "metadata" : {
    "config" : {
      "dependencies" : {
        
      },
      "exclusions" : [
      ],
      "repositories" : [
      ],
      "env" : {
        
      }
    },
    "language_info" : {
      "name" : "scala"
    }
  },
  "nbformat" : 4,
  "nbformat_minor" : 0,
  "cells" : [
    {
      "cell_type" : "markdown",
      "execution_count" : 0,
      "metadata" : {
        "language" : "text"
      },
      "language" : "text",
      "source" : [
        "# Ejercicios Adicionales - Ejercicio 2\n",
        "\n",
        "\n",
        "Dados X y una tolerancia TOL es posible calcular el seno (x) mediante la suma de los términos de la serie:\n",
        "\n",
        "\n",
        "seno(x) = x - x3 / 3! + x5 / 5! - x7/ 7! + x9 / 9! -x11 / 11! + ...\n",
        "\n",
        "\n",
        "Este proceso continúa mientras el término calculado (en valor absoluto) sea mayor que la tolerancia.\n",
        "\n",
        "\n",
        "Desarrollar una función que obtenga el seno de X con tolerancia TOL, utilizando dicha serie.\n",
        "\n",
        "\n",
        "<br>\n"
      ],
      "outputs" : [
      ]
    },
    {
      "cell_type" : "code",
      "execution_count" : 1,
      "metadata" : {
        "language" : "scala"
      },
      "language" : "scala",
      "source" : [
      ],
      "outputs" : [
      ]
    }
  ]
}