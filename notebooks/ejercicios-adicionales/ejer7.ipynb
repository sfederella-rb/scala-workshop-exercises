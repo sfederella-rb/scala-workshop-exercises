{
  "metadata" : {
    "config" : {
      "dependencies" : {
        
      },
      "exclusions" : [
      ],
      "repositories" : [
      ],
      "env" : {
        
      }
    },
    "language_info" : {
      "name" : "scala"
    }
  },
  "nbformat" : 4,
  "nbformat_minor" : 0,
  "cells" : [
    {
      "cell_type" : "markdown",
      "execution_count" : 0,
      "metadata" : {
        "language" : "text"
      },
      "language" : "text",
      "source" : [
        "# Ejercicios Adicionales - Ejercicio 7\n",
        "\n",
        "\n",
        "## Descripción del problema \n",
        "\n",
        "Pedro encontró el siguiente juego matemático en una revista de crucigramas:\n",
        "Se tiene una hilera de N números, uno\n",
        "al lado del otro. Debemos ubicar fichas\n",
        "sobre algunos de esos números, de modo\n",
        "tal que la suma de los números que tienen\n",
        "una ficha sobre ellos sea máxima. El\n",
        "problema es que está prohibido ubicar dos\n",
        "fichas sobre números adyacentes.\n",
        "El juego no termina allí: tenemos disponibles para usar hasta K fichas especiales\n",
        "(a diferencia de las fichas “comunes”,\n",
        "de las cuales disponemos en cantidad\n",
        "ilimitada). Las fichas especiales son equivalentes a las fichas comunes, excepto en\n",
        "que no están sujetas a ninguna restricción\n",
        "sobre adyacencias. En otras palabras,\n",
        "está permitido ubicar una ficha especial\n",
        "adyacente a una ficha común, y también\n",
        "está permitido ubicar dos fichas especiales sobre números adyacentes. Lo único\n",
        "que está prohibido es ubicar dos fichas\n",
        "comunes sobre números adyacentes.\n",
        "Debes escribir una función que, dada la\n",
        "hilera de números del juego y el valor K,\n",
        "calcule cuál es la máxima suma posible,\n",
        "e indique una forma posible de ubicar las\n",
        "fichas para conseguir dicha suma.\n",
        "En caso de existir múltiples formas\n",
        "válidas de obtener la suma máxima, cualquiera de ellas vale.<br>\n",
        "\n",
        "### Detalles de implementación\n",
        "\n",
        " Implementar la función\n",
        "hilera(numeros, k, fichas) que reciba un\n",
        "arreglo numeros con los números en el\n",
        "orden de la hilera, y un entero k con la\n",
        "cantidad de fichas especiales disponibles;\n",
        "y retorne un entero con la máxima suma\n",
        "posible. Además, se deberá escribir en el\n",
        "arreglo fichas una forma posible de ubicar\n",
        "las fichas para obtener la suma máxima.\n",
        "Cada una de las N posiciones de este\n",
        "arreglo deberá ser:\n",
        "0, para indicar que en esa posición\n",
        "no se ubica ninguna ficha.\n",
        "1, para indicar que en esa posición\n",
        "se ubica una ficha común.\n",
        "2, para indicar que en esa posición\n",
        "se ubica una ficha especial.<br>\n",
        "\n",
        "\n"
      ],
      "outputs" : [
      ]
    },
    {
      "cell_type" : "code",
      "execution_count" : 1,
      "metadata" : {
        "language" : "scala"
      },
      "language" : "scala",
      "source" : [
      ],
      "outputs" : [
      ]
    }
  ]
}