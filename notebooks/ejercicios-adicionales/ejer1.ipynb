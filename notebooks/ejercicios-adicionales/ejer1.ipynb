{
  "metadata" : {
    "config" : {
      "dependencies" : {
        
      },
      "exclusions" : [
      ],
      "repositories" : [
      ],
      "env" : {
        
      }
    },
    "language_info" : {
      "name" : "scala"
    }
  },
  "nbformat" : 4,
  "nbformat_minor" : 0,
  "cells" : [
    {
      "cell_type" : "markdown",
      "execution_count" : 0,
      "metadata" : {
        "language" : "text"
      },
      "language" : "text",
      "source" : [
        "# Ejercicios Adicionales - Ejercicio 1\n",
        "\n",
        "\n",
        "El factorial de un número natural incluído el 0, se calcula de la siguiente manera:\n",
        "\n",
        "\n",
        "1 si N = 0 N! = N. (N - 1)! si N > 0 o sea, N! = N. (N - 1). (N - 2). .... 3. 2. 1\n",
        "\n",
        "\n",
        "Ejemplo: 5! = 5. 4. 3. 2. 1 = 120\n",
        "\n",
        "\n",
        "Desarrollar una función para calcular el factorial de un entero.\n",
        "\n",
        "\n",
        "<br>\n"
      ],
      "outputs" : [
      ]
    },
    {
      "cell_type" : "code",
      "execution_count" : 1,
      "metadata" : {
        "language" : "scala"
      },
      "language" : "scala",
      "source" : [
      ],
      "outputs" : [
      ]
    }
  ]
}