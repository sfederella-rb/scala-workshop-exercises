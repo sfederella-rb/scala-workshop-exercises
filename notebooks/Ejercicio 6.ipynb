{
  "metadata" : {
    "config" : {
      "dependencies" : {
        
      },
      "exclusions" : [
      ],
      "repositories" : [
      ],
      "env" : {
        
      }
    },
    "language_info" : {
      "name" : "scala"
    }
  },
  "nbformat" : 4,
  "nbformat_minor" : 0,
  "cells" : [
    {
      "cell_type" : "markdown",
      "execution_count" : 0,
      "metadata" : {
        "language" : "text"
      },
      "language" : "text",
      "source" : [
        "# Ejercicio 6\n",
        "\n",
        "Ahora supongamos que el siguiente código es parte de una librería externa. \n",
        "\n",
        "\n"
      ],
      "outputs" : [
      ]
    },
    {
      "cell_type" : "code",
      "execution_count" : 1,
      "metadata" : {
        "cell.metadata.exec_info" : {
          "startTs" : 1589839976322,
          "endTs" : 1589839976607
        },
        "language" : "scala"
      },
      "language" : "scala",
      "source" : [
        "trait Animal\n",
        "case class Cat() extends Animal\n",
        "case class Dog(age: Int,  weight: Int, name: Option[String]) extends Animal"
      ],
      "outputs" : [
      ]
    },
    {
      "cell_type" : "markdown",
      "execution_count" : 2,
      "metadata" : {
        "language" : "text"
      },
      "language" : "text",
      "source" : [
        "En nuestra aplicación nos vamos a conectar con un servicio para registrar mascotas, y necesitamos convertir los objetos de tipo `Animal` a tipo `Pet`. Para mejorar la lectura se requiere extender el código de la librería para que ahora los animales puedan responder al método `toPet`. En caso de que el animal sea un perro se deberá mantener su nombre, en otro caso el amigo no tendrá nombre. Implementar lo necesario,** sin tocar la primer celda ni el contenido entre guiones**, para que se pueda utilzar de la siguiente manera:\n",
        "\n"
      ],
      "outputs" : [
      ]
    },
    {
      "cell_type" : "code",
      "execution_count" : 3,
      "metadata" : {
        "cell.metadata.exec_info" : {
          "startTs" : 1589839976625,
          "endTs" : 1589839977176
        },
        "language" : "scala"
      },
      "language" : "scala",
      "source" : [
        "// ---------------------------------------------------------------------------------------\n",
        "trait Animal\n",
        "case class Cat() extends Animal\n",
        "case class Dog(age: Int,  weight: Int, name: Option[String]) extends Animal\n",
        "// ---------------------------------------------------------------------------------------\n",
        "\n",
        "case class Pet(name: Option[String])\n",
        "\n",
        "// code here\n",
        "\n",
        "val firulais = Dog(age = 1, weight = 8, name = Some(\"Firulais\"))\n",
        "firulais.toPet == Pet(name = Some(\"Firulais\"))"
      ],
      "outputs" : [
      ]
    },
    {
      "cell_type" : "markdown",
      "execution_count" : 4,
      "metadata" : {
        "language" : "text"
      },
      "language" : "text",
      "source" : [
        "Para verificar el correcto funcionamiento, ejecute la siguiente validación:"
      ],
      "outputs" : [
      ]
    },
    {
      "cell_type" : "code",
      "execution_count" : 5,
      "metadata" : {
        "jupyter.source_hidden" : true,
        "cell.metadata.exec_info" : {
          "startTs" : 1589839977201,
          "endTs" : 1589839977839
        },
        "language" : "scala"
      },
      "language" : "scala",
      "source" : [
        "val conditions: List[(String, Boolean)] = List(\n",
        "    (\"Cat to pet\", Cat().toPet == Pet(name = None)),\n",
        "    (\"Unnamed dog to pet\", Dog(age = 1, weight = 8, name = None).toPet == Pet(name = None)),\n",
        "    (\"Firulais to pet\", Dog(age = 1, weight = 8, name = Some(\"Firulais\")).toPet == Pet(name = Some(\"Firulais\")))\n",
        ")\n",
        "val failed = conditions.filterNot(_._2)\n",
        "if (failed.isEmpty) println(\"Right answer.\")\n",
        "else failed.foreach(tuple => println(s\"Incorrect answer at: ${tuple._1}.\"))"
      ],
      "outputs" : [
      ]
    }
  ]
}