{
  "metadata" : {
    "config" : {
      "dependencies" : {
        
      },
      "exclusions" : [
      ],
      "repositories" : [
      ],
      "env" : {
        
      }
    },
    "language_info" : {
      "name" : "scala"
    }
  },
  "nbformat" : 4,
  "nbformat_minor" : 0,
  "cells" : [
    {
      "cell_type" : "markdown",
      "execution_count" : 0,
      "metadata" : {
        "language" : "text"
      },
      "language" : "text",
      "source" : [
        "# Ejercicio 3\n",
        "\n",
        "\n",
        "# * Implementar las clases Dog , Cat, Dove y Parrot. Todos los animales pueden caminar, así que deberán poder responder al método walk(): String con “Walking”. Dog y Cat además tienen que tener el método run(): String, el cual devuelve “Running”. Por su parte, Dove y Parrot tienen que tener el método fly(): String, el cual devuelve “Flying”. Implementar sin repetir código.\n",
        "  \n",
        "  \n",
        "* Ahora implementar la clase Roadrunner, sabiendo que estos animales son aves que pueden correr y también volar cortas distancias.\n",
        "  \n",
        "  \n",
        "\n",
        "\n"
      ],
      "outputs" : [
      ]
    },
    {
      "cell_type" : "code",
      "execution_count" : 1,
      "metadata" : {
        "language" : "scala"
      },
      "language" : "scala",
      "source" : [
      ],
      "outputs" : [
      ]
    }
  ]
}