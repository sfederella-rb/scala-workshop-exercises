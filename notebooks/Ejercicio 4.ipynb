{
  "metadata" : {
    "config" : {
      "dependencies" : {
        
      },
      "exclusions" : [
      ],
      "repositories" : [
      ],
      "env" : {
        
      }
    },
    "language_info" : {
      "name" : "scala"
    }
  },
  "nbformat" : 4,
  "nbformat_minor" : 0,
  "cells" : [
    {
      "cell_type" : "markdown",
      "execution_count" : 0,
      "metadata" : {
        "language" : "text"
      },
      "language" : "text",
      "source" : [
        "# Ejercicio 4\n",
        "\n",
        "\n",
        "Resulta que vamos a un refugio de animales, donde nos asignan el sector de perros y nos solicitan hacer algunas tareas como alimentarlos y obtener algunos datos. Dada una lista no vacía de perros (usamos `def` porque los `val` son más difíciles de compartir entre celdas):\n",
        "\n",
        "\n"
      ],
      "outputs" : [
      ]
    },
    {
      "cell_type" : "code",
      "execution_count" : 1,
      "metadata" : {
        "cell.metadata.exec_info" : {
          "startTs" : 1589841097472,
          "endTs" : 1589841099370
        },
        "language" : "scala"
      },
      "language" : "scala",
      "source" : [
        "case class Dog(age: Int,  weight: Int)\n",
        "\n",
        "def dogs: List[Dog] = List(\n",
        "    Dog(age = 5, weight = 15),\n",
        "    Dog(age = 3, weight = 20),\n",
        "    Dog(age = 1, weight = 8),\n",
        "    Dog(age = 4, weight = 25)\n",
        ")"
      ],
      "outputs" : [
      ]
    },
    {
      "cell_type" : "markdown",
      "execution_count" : 2,
      "metadata" : {
        "language" : "text"
      },
      "language" : "text",
      "source" : [
        "1. Crear una función `feedAll(dogs: List[Dog]): List[Dog]`  que reciba la lista como parámetro y devuelva una nueva lista con todos los perros pesando 1kg más de lo que pesaban.\n",
        "2. Crear una función `oldest(dogs: List[Dog]): Dog` que permita saber cual es el perro más viejo de la lista. (**HINT**: usar fold)\n",
        "3. Crear una función `averageHeavyAge(dogs: List[Dog]): Double` que permita obtener el promedio de edad de los perros de la lista que pesan más de 18 kilos. (**HINT**: usar filter y fold)\n",
        "\n",
        "\n"
      ],
      "outputs" : [
      ]
    },
    {
      "cell_type" : "code",
      "execution_count" : 3,
      "metadata" : {
        "cell.metadata.exec_info" : {
          "startTs" : 1589841099429,
          "endTs" : 1589841099867
        },
        "language" : "scala"
      },
      "language" : "scala",
      "source" : [
        "def feedAll(dogs: List[Dog]): List[Dog] = ???\n",
        "\n",
        "def oldest(dogs: List[Dog]): Dog = ???\n",
        "\n",
        "def averageHeavyAge(dogs: List[Dog]): Double = ???"
      ],
      "outputs" : [
      ]
    },
    {
      "cell_type" : "markdown",
      "execution_count" : 4,
      "metadata" : {
        "language" : "text"
      },
      "language" : "text",
      "source" : [
        "Para verificar el correcto funcionamiento, ejecute la siguiente validación:"
      ],
      "outputs" : [
      ]
    },
    {
      "cell_type" : "code",
      "execution_count" : 5,
      "metadata" : {
        "jupyter.source_hidden" : true,
        "cell.metadata.exec_info" : {
          "startTs" : 1589839256511,
          "endTs" : 1589839257376
        },
        "language" : "scala"
      },
      "language" : "scala",
      "source" : [
        "val conditions: List[(String, Boolean)] = List(\n",
        "    (\"Feed all\", feedAll(dogs) == List(Dog(age = 5, weight = 16), Dog(age = 3, weight = 21), Dog(age = 1, weight = 9), Dog(age = 4, weight = 26))),\n",
        "    (\"Oldest\", oldest(dogs) == Dog(age = 5, weight = 15)),\n",
        "    (\"Average heavy age\", averageHeavyAge(dogs) == 3.5)\n",
        ")\n",
        "val failed = conditions.filterNot(_._2)\n",
        "if (failed.isEmpty) println(\"Right answer.\")\n",
        "else failed.foreach(tuple => println(s\"Incorrect answer at: ${tuple._1}.\"))"
      ],
      "outputs" : [
      ]
    }
  ]
}