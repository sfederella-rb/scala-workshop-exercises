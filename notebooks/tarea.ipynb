{
  "metadata" : {
    "config" : {
      "dependencies" : {
        
      },
      "exclusions" : [
      ],
      "repositories" : [
      ],
      "env" : {
        
      }
    },
    "language_info" : {
      "name" : "scala"
    }
  },
  "nbformat" : 4,
  "nbformat_minor" : 0,
  "cells" : [
    {
      "cell_type" : "markdown",
      "execution_count" : 0,
      "metadata" : {
        "language" : "text"
      },
      "language" : "text",
      "source" : [
        "# tarea\n",
        "\n",
        "\n",
        "1. Con el método de newton se calcula una aproximación a la raiz cuadrada, es un procedimiento recursivo que consiste en los siguientes pasos:\n",
        "   \n",
        "   \n",
        "   1. Se define **guess:** Double = 1.\n",
        "   \n",
        "   \n",
        "   2. Se define **x:** Double como el número para a calcular la raiz cuadrada.\n",
        "   \n",
        "   \n",
        "   3. Se chequea si **|(guess * guess - x)| / x** es **< 0.00001.**  Siendo 0.00001 nuestro parámetro para definir que tan precisa tiene que ser la estimación. Es decir, revisamos si al elevar guess al cuadrado, si le restamos x, aplicamos el módulo, y lo dividmos por x, deberiamos obtener que tan cercano es guess a nuestra x real.\n",
        "   \n",
        "   \n",
        "\n",
        "**<br>**\n",
        "\n",
        "Si **guess** es mayor a **0.00001**:\n",
        "\n",
        "1. Calculamos el siguiente guess: **(guess + x/guess)/2**. De esta forma, realizamos otra iteración de guess acercando a guess aún más a nuestro x, y repetimos el proceso de validar si guess es suficientemente preciso.\n",
        "   \n",
        "   \n",
        "\n",
        "Si **guess** es menor a **0.00001**:\n",
        "\n",
        "1. guess es nuestra estimación de la raiz cuadrada.\n",
        "   \n",
        "   \n",
        "\n",
        "\n",
        "\n",
        "**Consigna:** Implementar la función **squareRoot(x: Double): Double**, la cual tiene que devolver la raiz cuadrada del número **x**. Para implementarlo utilizar el método abs, el cual calcula el módulo, y **pow(x: Double): Double**, para calcular el numero a elevar al cuadrado. Se debe implementar utilizando recursión para iterar.\n",
        "\n",
        "\n"
      ],
      "outputs" : [
      ]
    },
    {
      "cell_type" : "code",
      "execution_count" : 1,
      "metadata" : {
        "language" : "scala"
      },
      "language" : "scala",
      "source" : [
        "def squareRoot(x: Double): Double  = ???\n"
      ],
      "outputs" : [
      ]
    },
    {
      "cell_type" : "code",
      "execution_count" : 2,
      "metadata" : {
        "jupyter.outputs_hidden" : true
      },
      "language" : "scala",
      "source" : [
        "Math.floor(squareRoot(4) * 100000) / 100000 == 2"
      ],
      "outputs" : [
        {
          "ename" : "scala.NotImplementedError",
          "evalue" : "an implementation is missing",
          "traceback" : [
          ],
          "output_type" : "error"
        }
      ]
    },
    {
      "cell_type" : "code",
      "execution_count" : 3,
      "metadata" : {
        "jupyter.source_hidden" : true
      },
      "language" : "scala",
      "source" : [
        "\n",
        "def abs(x: Double) = if (x > 0) x else -x\n",
        "\n",
        "def isGoodEnough(guess: Double, x: Double) = abs(guess * guess - x)/x < 0.0000001\n",
        "\n",
        "def improve(guess: Double, x: Double) = (guess + x/guess)/2\n",
        "\n",
        "def newtonsMethod(guess: Double, x: Double): Double =  {\n",
        "    if (isGoodEnough(guess,x)) guess\n",
        "    else newtonsMethod(improve(guess, x), x)\n",
        "}\n",
        "\n",
        "def squareRoot(x: Double): Double  =  newtonsMethod(1, x)\n"
      ],
      "outputs" : [
      ]
    }
  ]
}