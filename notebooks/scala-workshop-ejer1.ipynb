{
  "metadata" : {
    "config" : {
      "dependencies" : {
        
      },
      "exclusions" : [
      ],
      "repositories" : [
      ],
      "env" : {
        
      }
    },
    "language_info" : {
      "name" : "scala"
    }
  },
  "nbformat" : 4,
  "nbformat_minor" : 0,
  "cells" : [
    {
      "cell_type" : "markdown",
      "execution_count" : 0,
      "metadata" : {
        "language" : "text"
      },
      "language" : "text",
      "source" : [
        "# Ejercicio 1\n",
        "\n",
        "\n",
        "Dadas las siguientes funciones<br>\n",
        "\n",
        "\n"
      ],
      "outputs" : [
      ]
    },
    {
      "cell_type" : "code",
      "execution_count" : 1,
      "metadata" : {
        "jupyter.outputs_hidden" : true,
        "cell.metadata.exec_info" : {
          "startTs" : 1588718143147,
          "endTs" : 1588718145307
        },
        "language" : "scala"
      },
      "language" : "scala",
      "source" : [
        "def sumLengths(a: String, b: String) : Int = a.length + b.length\n",
        "def sumInts(a: String, b: String) : Int = a.toInt + b.toInt\n",
        "\n",
        "sumLengths(\"aaa\",\"bb\")\n",
        "sumInts(\"4\",\"5\")"
      ],
      "outputs" : [
        {
          "execution_count" : 1,
          "data" : {
            "text/plain" : [
              "9"
            ]
          },
          "metadata" : {
            "name" : "Out",
            "type" : "Int"
          },
          "output_type" : "execute_result"
        }
      ]
    },
    {
      "cell_type" : "markdown",
      "execution_count" : 2,
      "metadata" : {
        "language" : "text"
      },
      "language" : "text",
      "source" : [
        "<p dir=\"ltr\" style=\"line-height:1.38;margin-left: 36pt;text-align: justify;margin-top:0pt;margin-bottom:0pt;\"><span style=\"font-size: 11pt; font-family: Arial; color: rgb(0, 0, 0); font-variant-numeric: normal; font-variant-east-asian: normal; vertical-align: baseline; white-space: pre-wrap;\">a) Se desea abstraer una función </span><span style=\"font-size: 11pt; font-family: Arial; color: rgb(0, 0, 0); font-weight: 700; font-variant-numeric: normal; font-variant-east-asian: normal; vertical-align: baseline; white-space: pre-wrap;\">sumStrings </span><span style=\"font-size: 11pt; font-family: Arial; color: rgb(0, 0, 0); font-variant-numeric: normal; font-variant-east-asian: normal; vertical-align: baseline; white-space: pre-wrap;\">que se pueda usar de la siguiente forma:</span></p><p dir=\"ltr\" style=\"line-height:1.38;margin-left: 36pt;text-align: justify;margin-top:0pt;margin-bottom:0pt;\"><span style=\"font-size: 11pt; font-family: Arial; color: rgb(0, 0, 0); font-variant-numeric: normal; font-variant-east-asian: normal; vertical-align: baseline; white-space: pre-wrap;\"><br></span></p><p dir=\"ltr\" style=\"line-height:1.38;margin-left: 36pt;text-align: justify;margin-top:0pt;margin-bottom:0pt;\"><span style=\"font-size: 11pt; font-family: Arial; color: rgb(0, 0, 0); font-variant-numeric: normal; font-variant-east-asian: normal; vertical-align: baseline; white-space: pre-wrap;\"><span id=\"docs-internal-guid-25388cb3-7fff-3843-dc48-1094eab55fc1\"><span style=\"font-size: 10pt; font-family: Consolas, sans-serif; color: rgb(51, 51, 51); background-color: rgb(248, 248, 248); font-weight: 700; font-variant-numeric: normal; font-variant-east-asian: normal; vertical-align: baseline;\">def</span><span style=\"font-size: 10pt; font-family: Consolas, sans-serif; color: rgb(51, 51, 51); background-color: rgb(248, 248, 248); font-variant-numeric: normal; font-variant-east-asian: normal; vertical-align: baseline;\"> </span><span style=\"font-size: 10pt; font-family: Consolas, sans-serif; color: rgb(153, 0, 0); background-color: rgb(248, 248, 248); font-weight: 700; font-variant-numeric: normal; font-variant-east-asian: normal; vertical-align: baseline;\">sumLengths</span><span style=\"font-size: 10pt; font-family: Consolas, sans-serif; color: rgb(51, 51, 51); background-color: rgb(248, 248, 248); font-variant-numeric: normal; font-variant-east-asian: normal; vertical-align: baseline;\">(a: </span><span style=\"font-size: 10pt; font-family: Consolas, sans-serif; color: rgb(68, 85, 136); background-color: rgb(248, 248, 248); font-weight: 700; font-variant-numeric: normal; font-variant-east-asian: normal; vertical-align: baseline;\">String</span><span style=\"font-size: 10pt; font-family: Consolas, sans-serif; color: rgb(51, 51, 51); background-color: rgb(248, 248, 248); font-variant-numeric: normal; font-variant-east-asian: normal; vertical-align: baseline;\">, b: </span><span style=\"font-size: 10pt; font-family: Consolas, sans-serif; color: rgb(68, 85, 136); background-color: rgb(248, 248, 248); font-weight: 700; font-variant-numeric: normal; font-variant-east-asian: normal; vertical-align: baseline;\">String</span><span style=\"font-size: 10pt; font-family: Consolas, sans-serif; color: rgb(51, 51, 51); background-color: rgb(248, 248, 248); font-variant-numeric: normal; font-variant-east-asian: normal; vertical-align: baseline;\">) : </span><span style=\"font-size: 10pt; font-family: Consolas, sans-serif; color: rgb(68, 85, 136); background-color: rgb(248, 248, 248); font-weight: 700; font-variant-numeric: normal; font-variant-east-asian: normal; vertical-align: baseline;\">Int</span><span style=\"font-size: 10pt; font-family: Consolas, sans-serif; color: rgb(51, 51, 51); background-color: rgb(248, 248, 248); font-variant-numeric: normal; font-variant-east-asian: normal; vertical-align: baseline;\"> = sumString(s =&gt; s.length, a, b)</span><span style=\"font-size: 10pt; font-family: Consolas, sans-serif; color: rgb(51, 51, 51); background-color: rgb(248, 248, 248); font-variant-numeric: normal; font-variant-east-asian: normal; vertical-align: baseline;\"><br></span><span style=\"font-size: 10pt; font-family: Consolas, sans-serif; color: rgb(51, 51, 51); background-color: rgb(248, 248, 248); font-weight: 700; font-variant-numeric: normal; font-variant-east-asian: normal; vertical-align: baseline;\">def</span><span style=\"font-size: 10pt; font-family: Consolas, sans-serif; color: rgb(51, 51, 51); background-color: rgb(248, 248, 248); font-variant-numeric: normal; font-variant-east-asian: normal; vertical-align: baseline;\"> </span><span style=\"font-size: 10pt; font-family: Consolas, sans-serif; color: rgb(153, 0, 0); background-color: rgb(248, 248, 248); font-weight: 700; font-variant-numeric: normal; font-variant-east-asian: normal; vertical-align: baseline;\">sumInts</span><span style=\"font-size: 10pt; font-family: Consolas, sans-serif; color: rgb(51, 51, 51); background-color: rgb(248, 248, 248); font-variant-numeric: normal; font-variant-east-asian: normal; vertical-align: baseline;\">(a: </span><span style=\"font-size: 10pt; font-family: Consolas, sans-serif; color: rgb(68, 85, 136); background-color: rgb(248, 248, 248); font-weight: 700; font-variant-numeric: normal; font-variant-east-asian: normal; vertical-align: baseline;\">String</span><span style=\"font-size: 10pt; font-family: Consolas, sans-serif; color: rgb(51, 51, 51); background-color: rgb(248, 248, 248); font-variant-numeric: normal; font-variant-east-asian: normal; vertical-align: baseline;\">, b: </span><span style=\"font-size: 10pt; font-family: Consolas, sans-serif; color: rgb(68, 85, 136); background-color: rgb(248, 248, 248); font-weight: 700; font-variant-numeric: normal; font-variant-east-asian: normal; vertical-align: baseline;\">String</span><span style=\"font-size: 10pt; font-family: Consolas, sans-serif; color: rgb(51, 51, 51); background-color: rgb(248, 248, 248); font-variant-numeric: normal; font-variant-east-asian: normal; vertical-align: baseline;\">) : </span><span style=\"font-size: 10pt; font-family: Consolas, sans-serif; color: rgb(68, 85, 136); background-color: rgb(248, 248, 248); font-weight: 700; font-variant-numeric: normal; font-variant-east-asian: normal; vertical-align: baseline;\">Int</span><span style=\"font-size: 10pt; font-family: Consolas, sans-serif; color: rgb(51, 51, 51); background-color: rgb(248, 248, 248); font-variant-numeric: normal; font-variant-east-asian: normal; vertical-align: baseline;\"> = sumString(s =&gt; s.toInt, a, b)</span><span style=\"font-size: 10pt; font-family: Consolas, sans-serif; color: rgb(51, 51, 51); background-color: rgb(248, 248, 248); font-variant-numeric: normal; font-variant-east-asian: normal; vertical-align: baseline;\"><br></span></span></span></p><p dir=\"ltr\" style=\"line-height:1.38;margin-left: 36pt;text-align: justify;margin-top:0pt;margin-bottom:0pt;\"><span style=\"font-size: 11pt; font-family: Arial; color: rgb(0, 0, 0); font-variant-numeric: normal; font-variant-east-asian: normal; vertical-align: baseline; white-space: pre-wrap;\"><span><span style=\"font-size: 10pt; font-family: Consolas, sans-serif; color: rgb(51, 51, 51); background-color: rgb(248, 248, 248); font-variant-numeric: normal; font-variant-east-asian: normal; vertical-align: baseline;\"><br></span></span></span></p><p dir=\"ltr\" style=\"line-height:1.38;margin-left: 36pt;text-align: justify;margin-top:0pt;margin-bottom:0pt;\"><span style=\"font-size: 11pt; font-family: Arial; color: rgb(0, 0, 0); font-variant-numeric: normal; font-variant-east-asian: normal; vertical-align: baseline; white-space: pre-wrap;\"><span><span style=\"font-size: 10pt; font-family: Consolas, sans-serif; color: rgb(51, 51, 51); background-color: rgb(248, 248, 248); font-variant-numeric: normal; font-variant-east-asian: normal; vertical-align: baseline;\">b) </span></span></span><span style=\"font-size: 11pt; font-family: Arial; color: rgb(0, 0, 0); font-variant-numeric: normal; font-variant-east-asian: normal; vertical-align: baseline; white-space: pre-wrap;\">Ahora estamos repitiendo menos código, pero todavía se puede mejorar un poco más.</span></p><p dir=\"ltr\" style=\"line-height:1.38;margin-left: 36pt;text-align: justify;margin-top:0pt;margin-bottom:0pt;\"><span style=\"font-size: 11pt; font-family: Arial; color: rgb(0, 0, 0); font-variant-numeric: normal; font-variant-east-asian: normal; vertical-align: baseline; white-space: pre-wrap;\"> Utilizando la currificación, cambiar la función </span><span style=\"font-size: 11pt; font-family: Arial; color: rgb(0, 0, 0); font-weight: 700; font-variant-numeric: normal; font-variant-east-asian: normal; vertical-align: baseline; white-space: pre-wrap;\">sumStrings </span><span style=\"font-size: 11pt; font-family: Arial; color: rgb(0, 0, 0); font-variant-numeric: normal; font-variant-east-asian: normal; vertical-align: baseline; white-space: pre-wrap;\">para que se pueda usar de la siguiente manera:</span></p><p dir=\"ltr\" style=\"line-height:1.38;margin-left: 36pt;text-align: justify;margin-top:0pt;margin-bottom:0pt;\"><span style=\"font-size: 11pt; font-family: Arial; color: rgb(0, 0, 0); font-variant-numeric: normal; font-variant-east-asian: normal; vertical-align: baseline; white-space: pre-wrap;\"><br></span></p><p dir=\"ltr\" style=\"line-height:1.38;margin-left: 36pt;text-align: justify;margin-top:0pt;margin-bottom:0pt;\"><span style=\"font-size: 11pt; font-family: Arial; color: rgb(0, 0, 0); font-variant-numeric: normal; font-variant-east-asian: normal; vertical-align: baseline; white-space: pre-wrap;\"><span id=\"docs-internal-guid-1210bdd0-7fff-0901-5a1f-ef27539b584e\"><span style=\"font-size: 10pt; font-family: Consolas, sans-serif; color: rgb(51, 51, 51); background-color: rgb(248, 248, 248); font-weight: 700; font-variant-numeric: normal; font-variant-east-asian: normal; vertical-align: baseline;\">def</span><span style=\"font-size: 10pt; font-family: Consolas, sans-serif; color: rgb(51, 51, 51); background-color: rgb(248, 248, 248); font-variant-numeric: normal; font-variant-east-asian: normal; vertical-align: baseline;\"> </span><span style=\"font-size: 10pt; font-family: Consolas, sans-serif; color: rgb(153, 0, 0); background-color: rgb(248, 248, 248); font-weight: 700; font-variant-numeric: normal; font-variant-east-asian: normal; vertical-align: baseline;\">sumLengths</span><span style=\"font-size: 10pt; font-family: Consolas, sans-serif; color: rgb(51, 51, 51); background-color: rgb(248, 248, 248); font-variant-numeric: normal; font-variant-east-asian: normal; vertical-align: baseline;\">: (</span><span style=\"font-size: 10pt; font-family: Consolas, sans-serif; color: rgb(68, 85, 136); background-color: rgb(248, 248, 248); font-weight: 700; font-variant-numeric: normal; font-variant-east-asian: normal; vertical-align: baseline;\">String</span><span style=\"font-size: 10pt; font-family: Consolas, sans-serif; color: rgb(51, 51, 51); background-color: rgb(248, 248, 248); font-variant-numeric: normal; font-variant-east-asian: normal; vertical-align: baseline;\">, </span><span style=\"font-size: 10pt; font-family: Consolas, sans-serif; color: rgb(68, 85, 136); background-color: rgb(248, 248, 248); font-weight: 700; font-variant-numeric: normal; font-variant-east-asian: normal; vertical-align: baseline;\">String</span><span style=\"font-size: 10pt; font-family: Consolas, sans-serif; color: rgb(51, 51, 51); background-color: rgb(248, 248, 248); font-variant-numeric: normal; font-variant-east-asian: normal; vertical-align: baseline;\">) =&gt; </span><span style=\"font-size: 10pt; font-family: Consolas, sans-serif; color: rgb(68, 85, 136); background-color: rgb(248, 248, 248); font-weight: 700; font-variant-numeric: normal; font-variant-east-asian: normal; vertical-align: baseline;\">Int</span><span style=\"font-size: 10pt; font-family: Consolas, sans-serif; color: rgb(51, 51, 51); background-color: rgb(248, 248, 248); font-variant-numeric: normal; font-variant-east-asian: normal; vertical-align: baseline;\"> = sumString(s =&gt; s.length)</span><span style=\"font-size: 10pt; font-family: Consolas, sans-serif; color: rgb(51, 51, 51); background-color: rgb(248, 248, 248); font-variant-numeric: normal; font-variant-east-asian: normal; vertical-align: baseline;\"><br></span><span style=\"font-size: 10pt; font-family: Consolas, sans-serif; color: rgb(51, 51, 51); background-color: rgb(248, 248, 248); font-weight: 700; font-variant-numeric: normal; font-variant-east-asian: normal; vertical-align: baseline;\">def</span><span style=\"font-size: 10pt; font-family: Consolas, sans-serif; color: rgb(51, 51, 51); background-color: rgb(248, 248, 248); font-variant-numeric: normal; font-variant-east-asian: normal; vertical-align: baseline;\"> </span><span style=\"font-size: 10pt; font-family: Consolas, sans-serif; color: rgb(153, 0, 0); background-color: rgb(248, 248, 248); font-weight: 700; font-variant-numeric: normal; font-variant-east-asian: normal; vertical-align: baseline;\">sumInts</span><span style=\"font-size: 10pt; font-family: Consolas, sans-serif; color: rgb(51, 51, 51); background-color: rgb(248, 248, 248); font-variant-numeric: normal; font-variant-east-asian: normal; vertical-align: baseline;\">: (</span><span style=\"font-size: 10pt; font-family: Consolas, sans-serif; color: rgb(68, 85, 136); background-color: rgb(248, 248, 248); font-weight: 700; font-variant-numeric: normal; font-variant-east-asian: normal; vertical-align: baseline;\">String</span><span style=\"font-size: 10pt; font-family: Consolas, sans-serif; color: rgb(51, 51, 51); background-color: rgb(248, 248, 248); font-variant-numeric: normal; font-variant-east-asian: normal; vertical-align: baseline;\">, </span><span style=\"font-size: 10pt; font-family: Consolas, sans-serif; color: rgb(68, 85, 136); background-color: rgb(248, 248, 248); font-weight: 700; font-variant-numeric: normal; font-variant-east-asian: normal; vertical-align: baseline;\">String</span><span style=\"font-size: 10pt; font-family: Consolas, sans-serif; color: rgb(51, 51, 51); background-color: rgb(248, 248, 248); font-variant-numeric: normal; font-variant-east-asian: normal; vertical-align: baseline;\">) =&gt; </span><span style=\"font-size: 10pt; font-family: Consolas, sans-serif; color: rgb(68, 85, 136); background-color: rgb(248, 248, 248); font-weight: 700; font-variant-numeric: normal; font-variant-east-asian: normal; vertical-align: baseline;\">Int</span><span style=\"font-size: 10pt; font-family: Consolas, sans-serif; color: rgb(51, 51, 51); background-color: rgb(248, 248, 248); font-variant-numeric: normal; font-variant-east-asian: normal; vertical-align: baseline;\"> = sumString(s =&gt; s.toInt)</span></span><br></span></p>"
      ],
      "outputs" : [
      ]
    },
    {
      "cell_type" : "code",
      "execution_count" : 3,
      "metadata" : {
        "language" : "scala"
      },
      "language" : "scala",
      "source" : [
      ],
      "outputs" : [
      ]
    }
  ]
}