{
  "metadata" : {
    "config" : {
      "dependencies" : {
        
      },
      "exclusions" : [
      ],
      "repositories" : [
      ],
      "env" : {
        
      }
    },
    "language_info" : {
      "name" : "scala"
    }
  },
  "nbformat" : 4,
  "nbformat_minor" : 0,
  "cells" : [
    {
      "cell_type" : "markdown",
      "execution_count" : 0,
      "metadata" : {
        "language" : "text"
      },
      "language" : "text",
      "source" : [
        "# Ejercicio 1\n",
        "\n",
        "\n",
        "Dadas las siguientes funciones:\n",
        "\n",
        "\n"
      ],
      "outputs" : [
      ]
    },
    {
      "cell_type" : "code",
      "execution_count" : 1,
      "metadata" : {
        "cell.metadata.exec_info" : {
          "startTs" : 1589840943165,
          "endTs" : 1589840944049
        },
        "language" : "scala"
      },
      "language" : "scala",
      "source" : [
        "def sumLengths(a: String, b: String) : Int = a.length + b.length\n",
        "def sumInts(a: String, b: String) : Int = a.toInt + b.toInt"
      ],
      "outputs" : [
      ]
    },
    {
      "cell_type" : "code",
      "execution_count" : 2,
      "metadata" : {
        "cell.metadata.exec_info" : {
          "startTs" : 1589840945199,
          "endTs" : 1589840945726
        },
        "language" : "scala"
      },
      "language" : "scala",
      "source" : [
        "sumLengths(\"aaa\",\"bb\")"
      ],
      "outputs" : [
      ]
    },
    {
      "cell_type" : "code",
      "execution_count" : 3,
      "metadata" : {
        "cell.metadata.exec_info" : {
          "startTs" : 1589839726177,
          "endTs" : 1589839726424
        },
        "language" : "scala"
      },
      "language" : "scala",
      "source" : [
        "sumInts(\"4\",\"5\")"
      ],
      "outputs" : [
      ]
    },
    {
      "cell_type" : "markdown",
      "execution_count" : 4,
      "metadata" : {
        "language" : "text"
      },
      "language" : "text",
      "source" : [
        "Se desea abstraer una función **sumStrings**, que reciba 3 parámetros. El primero será una transformación de un string a un numero, el segundo y tercer parámetro serán las dos strings a sumar. Con esa función se podrán redefinir las anteriormente mencionadas de la siguiente forma:\n",
        "\n",
        "\n",
        "`def sumLengths(a: String, b: String) : Int = sumString(s => s.length, a, b)`\n",
        "\n",
        "\n",
        "`def sumInts(a: String, b: String) : Int = sumString(s => s.toInt, a, b)`<br>\n",
        "\n",
        "\n"
      ],
      "outputs" : [
      ]
    },
    {
      "cell_type" : "code",
      "execution_count" : 5,
      "metadata" : {
        "cell.metadata.exec_info" : {
          "startTs" : 1589840951162,
          "endTs" : 1589840951415
        },
        "language" : "scala"
      },
      "language" : "scala",
      "source" : [
        "def sumStrings = ???"
      ],
      "outputs" : [
      ]
    },
    {
      "cell_type" : "markdown",
      "execution_count" : 6,
      "metadata" : {
        "language" : "text"
      },
      "language" : "text",
      "source" : [
        "Para verificar el correcto funcionamiento, ejecute la siguiente validación:"
      ],
      "outputs" : [
      ]
    },
    {
      "cell_type" : "code",
      "execution_count" : 7,
      "metadata" : {
        "jupyter.source_hidden" : true,
        "cell.metadata.exec_info" : {
          "startTs" : 1589840953830,
          "endTs" : 1589840954082
        },
        "language" : "scala"
      },
      "language" : "scala",
      "source" : [
        "def sumLengths(a: String, b: String) : Int = sumStrings(s => s.length, a, b)\n",
        "def sumInts(a: String, b: String) : Int = sumStrings(s => s.toInt, a, b)\n",
        "val conditions: List[(String, Boolean)] = List(\n",
        "    (\"Sum lengths\", sumLengths(\"aaa\",\"bb\") == 5),\n",
        "    (\"Sum ints\", sumInts(\"4\",\"5\") == 9)\n",
        ")\n",
        "val failed = conditions.filterNot(_._2)\n",
        "if (failed.isEmpty) println(\"Right answer.\")\n",
        "else failed.foreach(tuple => println(s\"Incorrect answer at: ${tuple._1}.\"))"
      ],
      "outputs" : [
      ]
    },
    {
      "cell_type" : "markdown",
      "execution_count" : 8,
      "metadata" : {
        "language" : "text"
      },
      "language" : "text",
      "source" : [
        "Ahora estamos repitiendo menos código, pero todavía se puede mejorar un poco más. Utilizando la currificación, cambiar la función **sumStrings** para que se pueda usar de la siguiente manera:\n",
        "\n",
        "\n",
        "`def sumLengths: (String, String) => Int = sumStrings(s => s.length)`\n",
        "\n",
        "\n",
        "`def sumInts: (String, String) => Int = sumStrings(s => s.toInt)`<br>\n",
        "\n",
        "\n"
      ],
      "outputs" : [
      ]
    },
    {
      "cell_type" : "code",
      "execution_count" : 9,
      "metadata" : {
        "cell.metadata.exec_info" : {
          "startTs" : 1589839728431,
          "endTs" : 1589839728637
        },
        "language" : "scala"
      },
      "language" : "scala",
      "source" : [
        "def sumStrings = ???"
      ],
      "outputs" : [
      ]
    },
    {
      "cell_type" : "markdown",
      "execution_count" : 10,
      "metadata" : {
        "language" : "text"
      },
      "language" : "text",
      "source" : [
        "Para verificar el correcto funcionamiento, ejecute la siguiente validación:"
      ],
      "outputs" : [
      ]
    },
    {
      "cell_type" : "code",
      "execution_count" : 11,
      "metadata" : {
        "jupyter.source_hidden" : true,
        "cell.metadata.exec_info" : {
          "startTs" : 1589839728640,
          "endTs" : 1589839730241
        },
        "language" : "scala"
      },
      "language" : "scala",
      "source" : [
        "def sumLengths: (String, String) => Int = sumStrings(s => s.length)\n",
        "def sumInts: (String, String) => Int = sumStrings(s => s.toInt)\n",
        "val conditions: List[(String, Boolean)] = List(\n",
        "    (\"Sum lengths\", sumLengths(\"aaa\",\"bb\") == 5),\n",
        "    (\"Sum ints\", sumInts(\"4\",\"5\") == 9)\n",
        ")\n",
        "val failed = conditions.filterNot(_._2)\n",
        "if (failed.isEmpty) println(\"Right answer.\")\n",
        "else failed.foreach(tuple => println(s\"Incorrect answer at: ${tuple._1}.\"))"
      ],
      "outputs" : [
      ]
    }
  ]
}